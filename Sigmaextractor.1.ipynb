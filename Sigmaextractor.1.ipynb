{
 "cells": [
  {
   "cell_type": "code",
   "execution_count": 1,
   "metadata": {},
   "outputs": [
    {
     "name": "stdout",
     "output_type": "stream",
     "text": [
      "Collecting selenium\n",
      "  Downloading selenium-4.28.1-py3-none-any.whl (9.5 MB)\n",
      "     ---------------------------------------- 9.5/9.5 MB 75.4 kB/s eta 0:00:00\n",
      "Requirement already satisfied: certifi>=2021.10.8 in c:\\users\\panch\\anaconda3\\lib\\site-packages (from selenium) (2022.9.14)\n",
      "Collecting trio-websocket~=0.9\n",
      "  Downloading trio_websocket-0.11.1-py3-none-any.whl (17 kB)\n",
      "Collecting websocket-client~=1.8\n",
      "  Downloading websocket_client-1.8.0-py3-none-any.whl (58 kB)\n",
      "     --------------------------------------- 58.8/58.8 kB 88.8 kB/s eta 0:00:00\n",
      "Collecting typing_extensions~=4.9\n",
      "  Downloading typing_extensions-4.12.2-py3-none-any.whl (37 kB)\n",
      "Collecting trio~=0.17\n",
      "  Downloading trio-0.28.0-py3-none-any.whl (486 kB)\n",
      "     ------------------------------------- 486.3/486.3 kB 51.5 kB/s eta 0:00:00\n",
      "Requirement already satisfied: urllib3[socks]<3,>=1.26 in c:\\users\\panch\\anaconda3\\lib\\site-packages (from selenium) (1.26.11)\n",
      "Collecting outcome\n",
      "  Downloading outcome-1.3.0.post0-py2.py3-none-any.whl (10 kB)\n",
      "Collecting sniffio>=1.3.0\n",
      "  Downloading sniffio-1.3.1-py3-none-any.whl (10 kB)\n",
      "Collecting exceptiongroup\n",
      "  Downloading exceptiongroup-1.2.2-py3-none-any.whl (16 kB)\n",
      "Requirement already satisfied: sortedcontainers in c:\\users\\panch\\anaconda3\\lib\\site-packages (from trio~=0.17->selenium) (2.4.0)\n",
      "Collecting attrs>=23.2.0\n",
      "  Downloading attrs-25.1.0-py3-none-any.whl (63 kB)\n",
      "     --------------------------------------- 63.2/63.2 kB 38.5 kB/s eta 0:00:00\n",
      "Requirement already satisfied: idna in c:\\users\\panch\\anaconda3\\lib\\site-packages (from trio~=0.17->selenium) (3.3)\n",
      "Requirement already satisfied: cffi>=1.14 in c:\\users\\panch\\anaconda3\\lib\\site-packages (from trio~=0.17->selenium) (1.15.1)\n",
      "Collecting wsproto>=0.14\n",
      "  Downloading wsproto-1.2.0-py3-none-any.whl (24 kB)\n",
      "Requirement already satisfied: PySocks!=1.5.7,<2.0,>=1.5.6 in c:\\users\\panch\\anaconda3\\lib\\site-packages (from urllib3[socks]<3,>=1.26->selenium) (1.7.1)\n",
      "Requirement already satisfied: pycparser in c:\\users\\panch\\anaconda3\\lib\\site-packages (from cffi>=1.14->trio~=0.17->selenium) (2.21)\n",
      "Collecting h11<1,>=0.9.0\n",
      "  Downloading h11-0.14.0-py3-none-any.whl (58 kB)\n",
      "     --------------------------------------- 58.3/58.3 kB 39.4 kB/s eta 0:00:00\n",
      "Installing collected packages: websocket-client, typing_extensions, sniffio, h11, exceptiongroup, attrs, wsproto, outcome, trio, trio-websocket, selenium\n",
      "  Attempting uninstall: websocket-client\n",
      "    Found existing installation: websocket-client 0.58.0\n",
      "    Uninstalling websocket-client-0.58.0:\n",
      "      Successfully uninstalled websocket-client-0.58.0\n",
      "  Attempting uninstall: typing_extensions\n",
      "    Found existing installation: typing_extensions 4.3.0\n",
      "    Uninstalling typing_extensions-4.3.0:\n",
      "      Successfully uninstalled typing_extensions-4.3.0\n",
      "  Attempting uninstall: sniffio\n",
      "    Found existing installation: sniffio 1.2.0\n",
      "    Uninstalling sniffio-1.2.0:\n",
      "      Successfully uninstalled sniffio-1.2.0\n",
      "  Attempting uninstall: attrs\n",
      "    Found existing installation: attrs 21.4.0\n",
      "    Uninstalling attrs-21.4.0:\n",
      "      Successfully uninstalled attrs-21.4.0\n",
      "Successfully installed attrs-25.1.0 exceptiongroup-1.2.2 h11-0.14.0 outcome-1.3.0.post0 selenium-4.28.1 sniffio-1.3.1 trio-0.28.0 trio-websocket-0.11.1 typing_extensions-4.12.2 websocket-client-1.8.0 wsproto-1.2.0\n",
      "Note: you may need to restart the kernel to use updated packages.\n"
     ]
    }
   ],
   "source": [
    "pip install selenium\n"
   ]
  },
  {
   "cell_type": "code",
   "execution_count": 2,
   "metadata": {},
   "outputs": [],
   "source": [
    "from selenium import webdriver"
   ]
  },
  {
   "cell_type": "code",
   "execution_count": 14,
   "metadata": {},
   "outputs": [],
   "source": [
    "dr=webdriver.Chrome()"
   ]
  },
  {
   "cell_type": "code",
   "execution_count": 16,
   "metadata": {},
   "outputs": [
    {
     "ename": "TypeError",
     "evalue": "get() got an unexpected keyword argument 'websites'",
     "output_type": "error",
     "traceback": [
      "\u001b[1;31m---------------------------------------------------------------------------\u001b[0m",
      "\u001b[1;31mTypeError\u001b[0m                                 Traceback (most recent call last)",
      "\u001b[1;32m~\\AppData\\Local\\Temp\\ipykernel_15600\\1899938040.py\u001b[0m in \u001b[0;36m<module>\u001b[1;34m\u001b[0m\n\u001b[1;32m----> 1\u001b[1;33m dr.get(websites = [\n\u001b[0m\u001b[0;32m      2\u001b[0m     \u001b[1;34m\"google.com\"\u001b[0m\u001b[1;33m,\u001b[0m \u001b[1;34m\"youtube.com\"\u001b[0m\u001b[1;33m,\u001b[0m \u001b[1;34m\"facebook.com\"\u001b[0m\u001b[1;33m,\u001b[0m \u001b[1;34m\"amazon.com\"\u001b[0m\u001b[1;33m,\u001b[0m \u001b[1;34m\"yahoo.com\"\u001b[0m\u001b[1;33m,\u001b[0m\u001b[1;33m\u001b[0m\u001b[1;33m\u001b[0m\u001b[0m\n\u001b[0;32m      3\u001b[0m     \u001b[1;34m\"wikipedia.org\"\u001b[0m\u001b[1;33m,\u001b[0m \u001b[1;34m\"twitter.com\"\u001b[0m\u001b[1;33m,\u001b[0m \u001b[1;34m\"instagram.com\"\u001b[0m\u001b[1;33m,\u001b[0m \u001b[1;34m\"linkedin.com\"\u001b[0m\u001b[1;33m,\u001b[0m \u001b[1;34m\"bing.com\"\u001b[0m\u001b[1;33m,\u001b[0m\u001b[1;33m\u001b[0m\u001b[1;33m\u001b[0m\u001b[0m\n\u001b[0;32m      4\u001b[0m     \u001b[1;34m\"reddit.com\"\u001b[0m\u001b[1;33m,\u001b[0m \u001b[1;34m\"ebay.com\"\u001b[0m\u001b[1;33m,\u001b[0m \u001b[1;34m\"pinterest.com\"\u001b[0m\u001b[1;33m,\u001b[0m \u001b[1;34m\"netflix.com\"\u001b[0m\u001b[1;33m,\u001b[0m \u001b[1;34m\"quora.com\"\u001b[0m\u001b[1;33m,\u001b[0m\u001b[1;33m\u001b[0m\u001b[1;33m\u001b[0m\u001b[0m\n\u001b[0;32m      5\u001b[0m     \u001b[1;34m\"stackoverflow.com\"\u001b[0m\u001b[1;33m,\u001b[0m \u001b[1;34m\"twitch.tv\"\u001b[0m\u001b[1;33m,\u001b[0m \u001b[1;34m\"whatsapp.com\"\u001b[0m\u001b[1;33m,\u001b[0m \u001b[1;34m\"zoom.us\"\u001b[0m\u001b[1;33m,\u001b[0m \u001b[1;34m\"microsoft.com\"\u001b[0m\u001b[1;33m,\u001b[0m\u001b[1;33m\u001b[0m\u001b[1;33m\u001b[0m\u001b[0m\n",
      "\u001b[1;31mTypeError\u001b[0m: get() got an unexpected keyword argument 'websites'"
     ]
    }
   ],
   "source": [
    "dr.get(websites = [\n",
    "    \"google.com\", \"youtube.com\", \"facebook.com\", \"amazon.com\", \"yahoo.com\", \n",
    "    \"wikipedia.org\", \"twitter.com\", \"instagram.com\", \"linkedin.com\", \"bing.com\",\n",
    "    \"reddit.com\", \"ebay.com\", \"pinterest.com\", \"netflix.com\", \"quora.com\",\n",
    "    \"stackoverflow.com\", \"twitch.tv\", \"whatsapp.com\", \"zoom.us\", \"microsoft.com\",\n",
    "    \"apple.com\", \"github.com\", \"adobe.com\", \"paypal.com\", \"spotify.com\",\n",
    "    \"cnn.com\", \"bbc.com\", \"nytimes.com\", \"weather.com\", \"alibaba.com\",\n",
    "    \"hulu.com\", \"airbnb.com\", \"coursera.org\", \"udemy.com\", \"khanacademy.org\",\n",
    "    \"codeacademy.com\", \"medium.com\", \"wordpress.com\", \"tumblr.com\", \"flickr.com\",\n",
    "    \"yelp.com\", \"etsy.com\", \"shopify.com\", \"salesforce.com\", \"zillow.com\",\n",
    "    \"tripadvisor.com\", \"booking.com\", \"expedia.com\", \"homedepot.com\", \"lowes.com\",\n",
    "    \"target.com\", \"walmart.com\", \"costco.com\", \"ikea.com\", \"bestbuy.com\",\n",
    "    \"nasa.gov\", \"cdc.gov\", \"irs.gov\", \"whitehouse.gov\", \"gov.uk\",\n",
    "    \"cloudflare.com\", \"weebly.com\", \"wix.com\", \"godaddy.com\", \"bluehost.com\",\n",
    "    \"slack.com\", \"trello.com\", \"asana.com\", \"notion.so\", \"evernote.com\",\n",
    "    \"dropbox.com\", \"onedrive.com\", \"icloud.com\", \"box.com\", \"dribbble.com\",\n",
    "    \"behance.net\", \"canva.com\", \"unsplash.com\", \"pexels.com\", \"shutterstock.com\",\n",
    "    \"forbes.com\", \"businessinsider.com\", \"bloomberg.com\", \"cnbc.com\", \"investopedia.com\",\n",
    "    \"coinbase.com\", \"binance.com\", \"robinhood.com\", \"etrade.com\", \"schwab.com\",\n",
    "    \"zoominfo.com\", \"glassdoor.com\", \"indeed.com\", \"monster.com\", \"naukri.com\",\n",
    "    \"freelancer.com\", \"upwork.com\", \"fiverr.com\", \"angel.co\", \"crunchbase.com\"\n",
    "]\n",
    ")"
   ]
  },
  {
   "cell_type": "code",
   "execution_count": 12,
   "metadata": {},
   "outputs": [
    {
     "ename": "NameError",
     "evalue": "name 'websites' is not defined",
     "output_type": "error",
     "traceback": [
      "\u001b[1;31m---------------------------------------------------------------------------\u001b[0m",
      "\u001b[1;31mNameError\u001b[0m                                 Traceback (most recent call last)",
      "\u001b[1;32m~\\AppData\\Local\\Temp\\ipykernel_15600\\3912091537.py\u001b[0m in \u001b[0;36m<module>\u001b[1;34m\u001b[0m\n\u001b[1;32m----> 1\u001b[1;33m \u001b[1;32mfor\u001b[0m \u001b[0mi\u001b[0m \u001b[1;32min\u001b[0m \u001b[0mwebsites\u001b[0m\u001b[1;33m:\u001b[0m\u001b[1;33m\u001b[0m\u001b[1;33m\u001b[0m\u001b[0m\n\u001b[0m\u001b[0;32m      2\u001b[0m     \u001b[0mdr\u001b[0m\u001b[1;33m.\u001b[0m\u001b[0mget\u001b[0m\u001b[1;33m(\u001b[0m\u001b[0mi\u001b[0m\u001b[1;33m)\u001b[0m\u001b[1;33m\u001b[0m\u001b[1;33m\u001b[0m\u001b[0m\n",
      "\u001b[1;31mNameError\u001b[0m: name 'websites' is not defined"
     ]
    }
   ],
   "source": [
    "for i in websites:\n",
    "    dr.get(i)"
   ]
  },
  {
   "cell_type": "code",
   "execution_count": null,
   "metadata": {},
   "outputs": [],
   "source": []
  }
 ],
 "metadata": {
  "kernelspec": {
   "display_name": "Python 3",
   "language": "python",
   "name": "python3"
  },
  "language_info": {
   "codemirror_mode": {
    "name": "ipython",
    "version": 3
   },
   "file_extension": ".py",
   "mimetype": "text/x-python",
   "name": "python",
   "nbconvert_exporter": "python",
   "pygments_lexer": "ipython3",
   "version": "3.9.13"
  }
 },
 "nbformat": 4,
 "nbformat_minor": 2
}
